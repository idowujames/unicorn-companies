{
  "nbformat": 4,
  "nbformat_minor": 0,
  "metadata": {
    "colab": {
      "provenance": [],
      "authorship_tag": "ABX9TyP4TciwYxM8bvjujRe7jaYA",
      "include_colab_link": true
    },
    "kernelspec": {
      "name": "python3",
      "display_name": "Python 3"
    },
    "language_info": {
      "name": "python"
    }
  },
  "cells": [
    {
      "cell_type": "markdown",
      "metadata": {
        "id": "view-in-github",
        "colab_type": "text"
      },
      "source": [
        "<a href=\"https://colab.research.google.com/github/idowujames/unicorn-companies/blob/main/Unicorn_Companies.ipynb\" target=\"_parent\"><img src=\"https://colab.research.google.com/assets/colab-badge.svg\" alt=\"Open In Colab\"/></a>"
      ]
    },
    {
      "cell_type": "code",
      "source": [
        "!pip install pyforest --quiet"
      ],
      "metadata": {
        "colab": {
          "base_uri": "https://localhost:8080/"
        },
        "id": "wkm6gEUZPCPH",
        "outputId": "99f7dc37-ba1b-40f7-871e-75899fe3084e"
      },
      "execution_count": 1,
      "outputs": [
        {
          "output_type": "stream",
          "name": "stdout",
          "text": [
            "  Building wheel for pyforest (setup.py) ... \u001b[?25l\u001b[?25hdone\n"
          ]
        }
      ]
    },
    {
      "cell_type": "code",
      "execution_count": 2,
      "metadata": {
        "id": "3MrQruCPMLCb"
      },
      "outputs": [],
      "source": [
        "import pyforest"
      ]
    },
    {
      "cell_type": "markdown",
      "source": [
        "## Questions to be answered\n",
        "- Which unicorn companies have had the biggest return on investment?\n",
        "\n",
        "- How long does it usually take for a company to become a unicorn? Has it always been this way?\n",
        "\n",
        "- Which countries have the most unicorns? Are there any cities that appear to be industry hubs?\n",
        "\n",
        "- Which investors have funded the most unicorns?"
      ],
      "metadata": {
        "id": "9VydZ7YMZRkX"
      }
    },
    {
      "cell_type": "markdown",
      "source": [
        "### Gathering the Dataset"
      ],
      "metadata": {
        "id": "Y1SdwlstUeDB"
      }
    },
    {
      "cell_type": "code",
      "source": [
        "# df_data = pd.read_csv('Data_Dictionary.csv')\n",
        "df_comp = pd.read_csv('https://raw.githubusercontent.com/idowujames/unicorn-companies/main/Unicorn_Companies.csv')"
      ],
      "metadata": {
        "colab": {
          "base_uri": "https://localhost:8080/",
          "height": 17
        },
        "id": "LCFzdRSxPZPl",
        "outputId": "1c09f270-59e1-444f-d12d-592bb11db2c4"
      },
      "execution_count": 3,
      "outputs": [
        {
          "output_type": "display_data",
          "data": {
            "text/plain": [
              "<IPython.core.display.Javascript object>"
            ],
            "application/javascript": [
              "\n",
              "        if (window._pyforest_update_imports_cell) { window._pyforest_update_imports_cell('import pandas as pd'); }\n",
              "    "
            ]
          },
          "metadata": {}
        }
      ]
    },
    {
      "cell_type": "code",
      "source": [
        "df_comp.sample(n=8, random_state=1)"
      ],
      "metadata": {
        "colab": {
          "base_uri": "https://localhost:8080/",
          "height": 500
        },
        "id": "RTgGBG5RQdnR",
        "outputId": "0b5f5501-ccb2-4f74-de3d-376b67d62ca2"
      },
      "execution_count": 4,
      "outputs": [
        {
          "output_type": "execute_result",
          "data": {
            "text/plain": [
              "         Company Valuation Date Joined                      Industry  \\\n",
              "635  Qingting FM       $1B  2021-06-02  Internet software & services   \n",
              "428       Zenoti       $2B  2020-12-15  Internet software & services   \n",
              "49    OutSystems      $10B  2018-06-05  Internet software & services   \n",
              "204   Articulate       $4B  2021-07-01                        Edtech   \n",
              "998      PicsArt       $1B  2021-08-26   Mobile & telecommunications   \n",
              "80          Ramp       $8B  2021-03-29                       Fintech   \n",
              "345    Outschool       $3B  2021-04-14                        Edtech   \n",
              "531    Moveworks       $2B  2021-06-30       Artificial intelligence   \n",
              "\n",
              "              City        Country      Continent  Year Founded Funding  \\\n",
              "635       Shanghai          China           Asia          2011   $164M   \n",
              "428       Bellevue  United States  North America          2010   $331M   \n",
              "49          Boston  United States  North America          2001   $572M   \n",
              "204       New York  United States  North America          2015     $2B   \n",
              "998  San Francisco  United States  North America          2011   $195M   \n",
              "80        New York  United States  North America          2019   $660M   \n",
              "345  San Francisco  United States  North America          2015   $240M   \n",
              "531  Mountain View  United States  North America          2016   $305M   \n",
              "\n",
              "                                      Select Investors  \n",
              "635  China Culture Industrial Investment Fund, We C...  \n",
              "428  Norwest Venture Partners, Accel, Tiger Global ...  \n",
              "49        KKR, ES Ventures, North Bridge Growth Equity  \n",
              "204        Blackstone, ICONIQ Growth, General Atlantic  \n",
              "998    Sequoia Capital, DCM Ventures, Insight Partners  \n",
              "80      D1 Capital Partners, Stripe, Coatue Management  \n",
              "345  Uniion Square Ventures, Tiger Global Managemen...  \n",
              "531  Lightspeed Venture Partners, Sapphire Ventures...  "
            ],
            "text/html": [
              "\n",
              "  <div id=\"df-c0cb4534-bdf2-4fd6-bfe6-81b84e751253\">\n",
              "    <div class=\"colab-df-container\">\n",
              "      <div>\n",
              "<style scoped>\n",
              "    .dataframe tbody tr th:only-of-type {\n",
              "        vertical-align: middle;\n",
              "    }\n",
              "\n",
              "    .dataframe tbody tr th {\n",
              "        vertical-align: top;\n",
              "    }\n",
              "\n",
              "    .dataframe thead th {\n",
              "        text-align: right;\n",
              "    }\n",
              "</style>\n",
              "<table border=\"1\" class=\"dataframe\">\n",
              "  <thead>\n",
              "    <tr style=\"text-align: right;\">\n",
              "      <th></th>\n",
              "      <th>Company</th>\n",
              "      <th>Valuation</th>\n",
              "      <th>Date Joined</th>\n",
              "      <th>Industry</th>\n",
              "      <th>City</th>\n",
              "      <th>Country</th>\n",
              "      <th>Continent</th>\n",
              "      <th>Year Founded</th>\n",
              "      <th>Funding</th>\n",
              "      <th>Select Investors</th>\n",
              "    </tr>\n",
              "  </thead>\n",
              "  <tbody>\n",
              "    <tr>\n",
              "      <th>635</th>\n",
              "      <td>Qingting FM</td>\n",
              "      <td>$1B</td>\n",
              "      <td>2021-06-02</td>\n",
              "      <td>Internet software &amp; services</td>\n",
              "      <td>Shanghai</td>\n",
              "      <td>China</td>\n",
              "      <td>Asia</td>\n",
              "      <td>2011</td>\n",
              "      <td>$164M</td>\n",
              "      <td>China Culture Industrial Investment Fund, We C...</td>\n",
              "    </tr>\n",
              "    <tr>\n",
              "      <th>428</th>\n",
              "      <td>Zenoti</td>\n",
              "      <td>$2B</td>\n",
              "      <td>2020-12-15</td>\n",
              "      <td>Internet software &amp; services</td>\n",
              "      <td>Bellevue</td>\n",
              "      <td>United States</td>\n",
              "      <td>North America</td>\n",
              "      <td>2010</td>\n",
              "      <td>$331M</td>\n",
              "      <td>Norwest Venture Partners, Accel, Tiger Global ...</td>\n",
              "    </tr>\n",
              "    <tr>\n",
              "      <th>49</th>\n",
              "      <td>OutSystems</td>\n",
              "      <td>$10B</td>\n",
              "      <td>2018-06-05</td>\n",
              "      <td>Internet software &amp; services</td>\n",
              "      <td>Boston</td>\n",
              "      <td>United States</td>\n",
              "      <td>North America</td>\n",
              "      <td>2001</td>\n",
              "      <td>$572M</td>\n",
              "      <td>KKR, ES Ventures, North Bridge Growth Equity</td>\n",
              "    </tr>\n",
              "    <tr>\n",
              "      <th>204</th>\n",
              "      <td>Articulate</td>\n",
              "      <td>$4B</td>\n",
              "      <td>2021-07-01</td>\n",
              "      <td>Edtech</td>\n",
              "      <td>New York</td>\n",
              "      <td>United States</td>\n",
              "      <td>North America</td>\n",
              "      <td>2015</td>\n",
              "      <td>$2B</td>\n",
              "      <td>Blackstone, ICONIQ Growth, General Atlantic</td>\n",
              "    </tr>\n",
              "    <tr>\n",
              "      <th>998</th>\n",
              "      <td>PicsArt</td>\n",
              "      <td>$1B</td>\n",
              "      <td>2021-08-26</td>\n",
              "      <td>Mobile &amp; telecommunications</td>\n",
              "      <td>San Francisco</td>\n",
              "      <td>United States</td>\n",
              "      <td>North America</td>\n",
              "      <td>2011</td>\n",
              "      <td>$195M</td>\n",
              "      <td>Sequoia Capital, DCM Ventures, Insight Partners</td>\n",
              "    </tr>\n",
              "    <tr>\n",
              "      <th>80</th>\n",
              "      <td>Ramp</td>\n",
              "      <td>$8B</td>\n",
              "      <td>2021-03-29</td>\n",
              "      <td>Fintech</td>\n",
              "      <td>New York</td>\n",
              "      <td>United States</td>\n",
              "      <td>North America</td>\n",
              "      <td>2019</td>\n",
              "      <td>$660M</td>\n",
              "      <td>D1 Capital Partners, Stripe, Coatue Management</td>\n",
              "    </tr>\n",
              "    <tr>\n",
              "      <th>345</th>\n",
              "      <td>Outschool</td>\n",
              "      <td>$3B</td>\n",
              "      <td>2021-04-14</td>\n",
              "      <td>Edtech</td>\n",
              "      <td>San Francisco</td>\n",
              "      <td>United States</td>\n",
              "      <td>North America</td>\n",
              "      <td>2015</td>\n",
              "      <td>$240M</td>\n",
              "      <td>Uniion Square Ventures, Tiger Global Managemen...</td>\n",
              "    </tr>\n",
              "    <tr>\n",
              "      <th>531</th>\n",
              "      <td>Moveworks</td>\n",
              "      <td>$2B</td>\n",
              "      <td>2021-06-30</td>\n",
              "      <td>Artificial intelligence</td>\n",
              "      <td>Mountain View</td>\n",
              "      <td>United States</td>\n",
              "      <td>North America</td>\n",
              "      <td>2016</td>\n",
              "      <td>$305M</td>\n",
              "      <td>Lightspeed Venture Partners, Sapphire Ventures...</td>\n",
              "    </tr>\n",
              "  </tbody>\n",
              "</table>\n",
              "</div>\n",
              "      <button class=\"colab-df-convert\" onclick=\"convertToInteractive('df-c0cb4534-bdf2-4fd6-bfe6-81b84e751253')\"\n",
              "              title=\"Convert this dataframe to an interactive table.\"\n",
              "              style=\"display:none;\">\n",
              "        \n",
              "  <svg xmlns=\"http://www.w3.org/2000/svg\" height=\"24px\"viewBox=\"0 0 24 24\"\n",
              "       width=\"24px\">\n",
              "    <path d=\"M0 0h24v24H0V0z\" fill=\"none\"/>\n",
              "    <path d=\"M18.56 5.44l.94 2.06.94-2.06 2.06-.94-2.06-.94-.94-2.06-.94 2.06-2.06.94zm-11 1L8.5 8.5l.94-2.06 2.06-.94-2.06-.94L8.5 2.5l-.94 2.06-2.06.94zm10 10l.94 2.06.94-2.06 2.06-.94-2.06-.94-.94-2.06-.94 2.06-2.06.94z\"/><path d=\"M17.41 7.96l-1.37-1.37c-.4-.4-.92-.59-1.43-.59-.52 0-1.04.2-1.43.59L10.3 9.45l-7.72 7.72c-.78.78-.78 2.05 0 2.83L4 21.41c.39.39.9.59 1.41.59.51 0 1.02-.2 1.41-.59l7.78-7.78 2.81-2.81c.8-.78.8-2.07 0-2.86zM5.41 20L4 18.59l7.72-7.72 1.47 1.35L5.41 20z\"/>\n",
              "  </svg>\n",
              "      </button>\n",
              "      \n",
              "  <style>\n",
              "    .colab-df-container {\n",
              "      display:flex;\n",
              "      flex-wrap:wrap;\n",
              "      gap: 12px;\n",
              "    }\n",
              "\n",
              "    .colab-df-convert {\n",
              "      background-color: #E8F0FE;\n",
              "      border: none;\n",
              "      border-radius: 50%;\n",
              "      cursor: pointer;\n",
              "      display: none;\n",
              "      fill: #1967D2;\n",
              "      height: 32px;\n",
              "      padding: 0 0 0 0;\n",
              "      width: 32px;\n",
              "    }\n",
              "\n",
              "    .colab-df-convert:hover {\n",
              "      background-color: #E2EBFA;\n",
              "      box-shadow: 0px 1px 2px rgba(60, 64, 67, 0.3), 0px 1px 3px 1px rgba(60, 64, 67, 0.15);\n",
              "      fill: #174EA6;\n",
              "    }\n",
              "\n",
              "    [theme=dark] .colab-df-convert {\n",
              "      background-color: #3B4455;\n",
              "      fill: #D2E3FC;\n",
              "    }\n",
              "\n",
              "    [theme=dark] .colab-df-convert:hover {\n",
              "      background-color: #434B5C;\n",
              "      box-shadow: 0px 1px 3px 1px rgba(0, 0, 0, 0.15);\n",
              "      filter: drop-shadow(0px 1px 2px rgba(0, 0, 0, 0.3));\n",
              "      fill: #FFFFFF;\n",
              "    }\n",
              "  </style>\n",
              "\n",
              "      <script>\n",
              "        const buttonEl =\n",
              "          document.querySelector('#df-c0cb4534-bdf2-4fd6-bfe6-81b84e751253 button.colab-df-convert');\n",
              "        buttonEl.style.display =\n",
              "          google.colab.kernel.accessAllowed ? 'block' : 'none';\n",
              "\n",
              "        async function convertToInteractive(key) {\n",
              "          const element = document.querySelector('#df-c0cb4534-bdf2-4fd6-bfe6-81b84e751253');\n",
              "          const dataTable =\n",
              "            await google.colab.kernel.invokeFunction('convertToInteractive',\n",
              "                                                     [key], {});\n",
              "          if (!dataTable) return;\n",
              "\n",
              "          const docLinkHtml = 'Like what you see? Visit the ' +\n",
              "            '<a target=\"_blank\" href=https://colab.research.google.com/notebooks/data_table.ipynb>data table notebook</a>'\n",
              "            + ' to learn more about interactive tables.';\n",
              "          element.innerHTML = '';\n",
              "          dataTable['output_type'] = 'display_data';\n",
              "          await google.colab.output.renderOutput(dataTable, element);\n",
              "          const docLink = document.createElement('div');\n",
              "          docLink.innerHTML = docLinkHtml;\n",
              "          element.appendChild(docLink);\n",
              "        }\n",
              "      </script>\n",
              "    </div>\n",
              "  </div>\n",
              "  "
            ]
          },
          "metadata": {},
          "execution_count": 4
        }
      ]
    },
    {
      "cell_type": "code",
      "source": [
        "df_comp.info()"
      ],
      "metadata": {
        "colab": {
          "base_uri": "https://localhost:8080/"
        },
        "id": "lPN83uxpP8-k",
        "outputId": "67e64a86-5505-404f-d27c-83d3baf1934d"
      },
      "execution_count": 5,
      "outputs": [
        {
          "output_type": "stream",
          "name": "stdout",
          "text": [
            "<class 'pandas.core.frame.DataFrame'>\n",
            "RangeIndex: 1074 entries, 0 to 1073\n",
            "Data columns (total 10 columns):\n",
            " #   Column            Non-Null Count  Dtype \n",
            "---  ------            --------------  ----- \n",
            " 0   Company           1074 non-null   object\n",
            " 1   Valuation         1074 non-null   object\n",
            " 2   Date Joined       1074 non-null   object\n",
            " 3   Industry          1074 non-null   object\n",
            " 4   City              1058 non-null   object\n",
            " 5   Country           1074 non-null   object\n",
            " 6   Continent         1074 non-null   object\n",
            " 7   Year Founded      1074 non-null   int64 \n",
            " 8   Funding           1074 non-null   object\n",
            " 9   Select Investors  1073 non-null   object\n",
            "dtypes: int64(1), object(9)\n",
            "memory usage: 84.0+ KB\n"
          ]
        }
      ]
    },
    {
      "cell_type": "markdown",
      "source": [
        "## Data Wrangling\n",
        "\n",
        "- Create a copy of the dataframe for cleaning\n",
        "- Change valuation from object datatype to float datatype\n",
        "- Change date joined from object datatype to datetime\n",
        "- Change funding from object datatype to float datatype\n",
        "- Rename all columns to be more pythonic\n",
        "- Deal with missing values"
      ],
      "metadata": {
        "id": "2qzn5wzcZuZ0"
      }
    },
    {
      "cell_type": "markdown",
      "source": [
        "### Creating a copy of the dataframe for cleaning\n"
      ],
      "metadata": {
        "id": "xIaumgOSc0Dt"
      }
    },
    {
      "cell_type": "code",
      "source": [
        "df = df_comp.copy()\n",
        "\n",
        "df.head()"
      ],
      "metadata": {
        "colab": {
          "base_uri": "https://localhost:8080/",
          "height": 354
        },
        "id": "cZpJXlyAc9Re",
        "outputId": "85864a39-8824-4eec-de5c-410554946168"
      },
      "execution_count": 6,
      "outputs": [
        {
          "output_type": "execute_result",
          "data": {
            "text/plain": [
              "     Company Valuation Date Joined                         Industry  \\\n",
              "0  Bytedance     $180B  2017-04-07          Artificial intelligence   \n",
              "1     SpaceX     $100B  2012-12-01                            Other   \n",
              "2      SHEIN     $100B  2018-07-03  E-commerce & direct-to-consumer   \n",
              "3     Stripe      $95B  2014-01-23                          Fintech   \n",
              "4     Klarna      $46B  2011-12-12                          Fintech   \n",
              "\n",
              "            City        Country      Continent  Year Founded Funding  \\\n",
              "0        Beijing          China           Asia          2012     $8B   \n",
              "1      Hawthorne  United States  North America          2002     $7B   \n",
              "2       Shenzhen          China           Asia          2008     $2B   \n",
              "3  San Francisco  United States  North America          2010     $2B   \n",
              "4      Stockholm         Sweden         Europe          2005     $4B   \n",
              "\n",
              "                                    Select Investors  \n",
              "0  Sequoia Capital China, SIG Asia Investments, S...  \n",
              "1  Founders Fund, Draper Fisher Jurvetson, Rothen...  \n",
              "2  Tiger Global Management, Sequoia Capital China...  \n",
              "3        Khosla Ventures, LowercaseCapital, capitalG  \n",
              "4  Institutional Venture Partners, Sequoia Capita...  "
            ],
            "text/html": [
              "\n",
              "  <div id=\"df-701e30bb-0972-44f5-95fc-137d3983b899\">\n",
              "    <div class=\"colab-df-container\">\n",
              "      <div>\n",
              "<style scoped>\n",
              "    .dataframe tbody tr th:only-of-type {\n",
              "        vertical-align: middle;\n",
              "    }\n",
              "\n",
              "    .dataframe tbody tr th {\n",
              "        vertical-align: top;\n",
              "    }\n",
              "\n",
              "    .dataframe thead th {\n",
              "        text-align: right;\n",
              "    }\n",
              "</style>\n",
              "<table border=\"1\" class=\"dataframe\">\n",
              "  <thead>\n",
              "    <tr style=\"text-align: right;\">\n",
              "      <th></th>\n",
              "      <th>Company</th>\n",
              "      <th>Valuation</th>\n",
              "      <th>Date Joined</th>\n",
              "      <th>Industry</th>\n",
              "      <th>City</th>\n",
              "      <th>Country</th>\n",
              "      <th>Continent</th>\n",
              "      <th>Year Founded</th>\n",
              "      <th>Funding</th>\n",
              "      <th>Select Investors</th>\n",
              "    </tr>\n",
              "  </thead>\n",
              "  <tbody>\n",
              "    <tr>\n",
              "      <th>0</th>\n",
              "      <td>Bytedance</td>\n",
              "      <td>$180B</td>\n",
              "      <td>2017-04-07</td>\n",
              "      <td>Artificial intelligence</td>\n",
              "      <td>Beijing</td>\n",
              "      <td>China</td>\n",
              "      <td>Asia</td>\n",
              "      <td>2012</td>\n",
              "      <td>$8B</td>\n",
              "      <td>Sequoia Capital China, SIG Asia Investments, S...</td>\n",
              "    </tr>\n",
              "    <tr>\n",
              "      <th>1</th>\n",
              "      <td>SpaceX</td>\n",
              "      <td>$100B</td>\n",
              "      <td>2012-12-01</td>\n",
              "      <td>Other</td>\n",
              "      <td>Hawthorne</td>\n",
              "      <td>United States</td>\n",
              "      <td>North America</td>\n",
              "      <td>2002</td>\n",
              "      <td>$7B</td>\n",
              "      <td>Founders Fund, Draper Fisher Jurvetson, Rothen...</td>\n",
              "    </tr>\n",
              "    <tr>\n",
              "      <th>2</th>\n",
              "      <td>SHEIN</td>\n",
              "      <td>$100B</td>\n",
              "      <td>2018-07-03</td>\n",
              "      <td>E-commerce &amp; direct-to-consumer</td>\n",
              "      <td>Shenzhen</td>\n",
              "      <td>China</td>\n",
              "      <td>Asia</td>\n",
              "      <td>2008</td>\n",
              "      <td>$2B</td>\n",
              "      <td>Tiger Global Management, Sequoia Capital China...</td>\n",
              "    </tr>\n",
              "    <tr>\n",
              "      <th>3</th>\n",
              "      <td>Stripe</td>\n",
              "      <td>$95B</td>\n",
              "      <td>2014-01-23</td>\n",
              "      <td>Fintech</td>\n",
              "      <td>San Francisco</td>\n",
              "      <td>United States</td>\n",
              "      <td>North America</td>\n",
              "      <td>2010</td>\n",
              "      <td>$2B</td>\n",
              "      <td>Khosla Ventures, LowercaseCapital, capitalG</td>\n",
              "    </tr>\n",
              "    <tr>\n",
              "      <th>4</th>\n",
              "      <td>Klarna</td>\n",
              "      <td>$46B</td>\n",
              "      <td>2011-12-12</td>\n",
              "      <td>Fintech</td>\n",
              "      <td>Stockholm</td>\n",
              "      <td>Sweden</td>\n",
              "      <td>Europe</td>\n",
              "      <td>2005</td>\n",
              "      <td>$4B</td>\n",
              "      <td>Institutional Venture Partners, Sequoia Capita...</td>\n",
              "    </tr>\n",
              "  </tbody>\n",
              "</table>\n",
              "</div>\n",
              "      <button class=\"colab-df-convert\" onclick=\"convertToInteractive('df-701e30bb-0972-44f5-95fc-137d3983b899')\"\n",
              "              title=\"Convert this dataframe to an interactive table.\"\n",
              "              style=\"display:none;\">\n",
              "        \n",
              "  <svg xmlns=\"http://www.w3.org/2000/svg\" height=\"24px\"viewBox=\"0 0 24 24\"\n",
              "       width=\"24px\">\n",
              "    <path d=\"M0 0h24v24H0V0z\" fill=\"none\"/>\n",
              "    <path d=\"M18.56 5.44l.94 2.06.94-2.06 2.06-.94-2.06-.94-.94-2.06-.94 2.06-2.06.94zm-11 1L8.5 8.5l.94-2.06 2.06-.94-2.06-.94L8.5 2.5l-.94 2.06-2.06.94zm10 10l.94 2.06.94-2.06 2.06-.94-2.06-.94-.94-2.06-.94 2.06-2.06.94z\"/><path d=\"M17.41 7.96l-1.37-1.37c-.4-.4-.92-.59-1.43-.59-.52 0-1.04.2-1.43.59L10.3 9.45l-7.72 7.72c-.78.78-.78 2.05 0 2.83L4 21.41c.39.39.9.59 1.41.59.51 0 1.02-.2 1.41-.59l7.78-7.78 2.81-2.81c.8-.78.8-2.07 0-2.86zM5.41 20L4 18.59l7.72-7.72 1.47 1.35L5.41 20z\"/>\n",
              "  </svg>\n",
              "      </button>\n",
              "      \n",
              "  <style>\n",
              "    .colab-df-container {\n",
              "      display:flex;\n",
              "      flex-wrap:wrap;\n",
              "      gap: 12px;\n",
              "    }\n",
              "\n",
              "    .colab-df-convert {\n",
              "      background-color: #E8F0FE;\n",
              "      border: none;\n",
              "      border-radius: 50%;\n",
              "      cursor: pointer;\n",
              "      display: none;\n",
              "      fill: #1967D2;\n",
              "      height: 32px;\n",
              "      padding: 0 0 0 0;\n",
              "      width: 32px;\n",
              "    }\n",
              "\n",
              "    .colab-df-convert:hover {\n",
              "      background-color: #E2EBFA;\n",
              "      box-shadow: 0px 1px 2px rgba(60, 64, 67, 0.3), 0px 1px 3px 1px rgba(60, 64, 67, 0.15);\n",
              "      fill: #174EA6;\n",
              "    }\n",
              "\n",
              "    [theme=dark] .colab-df-convert {\n",
              "      background-color: #3B4455;\n",
              "      fill: #D2E3FC;\n",
              "    }\n",
              "\n",
              "    [theme=dark] .colab-df-convert:hover {\n",
              "      background-color: #434B5C;\n",
              "      box-shadow: 0px 1px 3px 1px rgba(0, 0, 0, 0.15);\n",
              "      filter: drop-shadow(0px 1px 2px rgba(0, 0, 0, 0.3));\n",
              "      fill: #FFFFFF;\n",
              "    }\n",
              "  </style>\n",
              "\n",
              "      <script>\n",
              "        const buttonEl =\n",
              "          document.querySelector('#df-701e30bb-0972-44f5-95fc-137d3983b899 button.colab-df-convert');\n",
              "        buttonEl.style.display =\n",
              "          google.colab.kernel.accessAllowed ? 'block' : 'none';\n",
              "\n",
              "        async function convertToInteractive(key) {\n",
              "          const element = document.querySelector('#df-701e30bb-0972-44f5-95fc-137d3983b899');\n",
              "          const dataTable =\n",
              "            await google.colab.kernel.invokeFunction('convertToInteractive',\n",
              "                                                     [key], {});\n",
              "          if (!dataTable) return;\n",
              "\n",
              "          const docLinkHtml = 'Like what you see? Visit the ' +\n",
              "            '<a target=\"_blank\" href=https://colab.research.google.com/notebooks/data_table.ipynb>data table notebook</a>'\n",
              "            + ' to learn more about interactive tables.';\n",
              "          element.innerHTML = '';\n",
              "          dataTable['output_type'] = 'display_data';\n",
              "          await google.colab.output.renderOutput(dataTable, element);\n",
              "          const docLink = document.createElement('div');\n",
              "          docLink.innerHTML = docLinkHtml;\n",
              "          element.appendChild(docLink);\n",
              "        }\n",
              "      </script>\n",
              "    </div>\n",
              "  </div>\n",
              "  "
            ]
          },
          "metadata": {},
          "execution_count": 6
        }
      ]
    },
    {
      "cell_type": "markdown",
      "source": [
        "#### Changing valuation from object datatype to float datatype"
      ],
      "metadata": {
        "id": "RQRv1O3PZ1ZP"
      }
    },
    {
      "cell_type": "code",
      "source": [
        "df['Valuation'] = df['Valuation'].str.extract('(\\d+)').astype('float')"
      ],
      "metadata": {
        "id": "qCbTKlztQNRI"
      },
      "execution_count": 7,
      "outputs": []
    },
    {
      "cell_type": "markdown",
      "source": [
        "### Test"
      ],
      "metadata": {
        "id": "ORf351F4gSwD"
      }
    },
    {
      "cell_type": "code",
      "source": [
        "df.info()\n",
        "df.head(3)"
      ],
      "metadata": {
        "colab": {
          "base_uri": "https://localhost:8080/",
          "height": 552
        },
        "id": "J9_a0-vigSOt",
        "outputId": "e62ae71d-a1ed-41eb-b021-7ad7c5e3b17a"
      },
      "execution_count": 8,
      "outputs": [
        {
          "output_type": "stream",
          "name": "stdout",
          "text": [
            "<class 'pandas.core.frame.DataFrame'>\n",
            "RangeIndex: 1074 entries, 0 to 1073\n",
            "Data columns (total 10 columns):\n",
            " #   Column            Non-Null Count  Dtype  \n",
            "---  ------            --------------  -----  \n",
            " 0   Company           1074 non-null   object \n",
            " 1   Valuation         1074 non-null   float64\n",
            " 2   Date Joined       1074 non-null   object \n",
            " 3   Industry          1074 non-null   object \n",
            " 4   City              1058 non-null   object \n",
            " 5   Country           1074 non-null   object \n",
            " 6   Continent         1074 non-null   object \n",
            " 7   Year Founded      1074 non-null   int64  \n",
            " 8   Funding           1074 non-null   object \n",
            " 9   Select Investors  1073 non-null   object \n",
            "dtypes: float64(1), int64(1), object(8)\n",
            "memory usage: 84.0+ KB\n"
          ]
        },
        {
          "output_type": "execute_result",
          "data": {
            "text/plain": [
              "     Company  Valuation Date Joined                         Industry  \\\n",
              "0  Bytedance      180.0  2017-04-07          Artificial intelligence   \n",
              "1     SpaceX      100.0  2012-12-01                            Other   \n",
              "2      SHEIN      100.0  2018-07-03  E-commerce & direct-to-consumer   \n",
              "\n",
              "        City        Country      Continent  Year Founded Funding  \\\n",
              "0    Beijing          China           Asia          2012     $8B   \n",
              "1  Hawthorne  United States  North America          2002     $7B   \n",
              "2   Shenzhen          China           Asia          2008     $2B   \n",
              "\n",
              "                                    Select Investors  \n",
              "0  Sequoia Capital China, SIG Asia Investments, S...  \n",
              "1  Founders Fund, Draper Fisher Jurvetson, Rothen...  \n",
              "2  Tiger Global Management, Sequoia Capital China...  "
            ],
            "text/html": [
              "\n",
              "  <div id=\"df-2d3652fe-e612-45dc-8eee-238e2d5d4e08\">\n",
              "    <div class=\"colab-df-container\">\n",
              "      <div>\n",
              "<style scoped>\n",
              "    .dataframe tbody tr th:only-of-type {\n",
              "        vertical-align: middle;\n",
              "    }\n",
              "\n",
              "    .dataframe tbody tr th {\n",
              "        vertical-align: top;\n",
              "    }\n",
              "\n",
              "    .dataframe thead th {\n",
              "        text-align: right;\n",
              "    }\n",
              "</style>\n",
              "<table border=\"1\" class=\"dataframe\">\n",
              "  <thead>\n",
              "    <tr style=\"text-align: right;\">\n",
              "      <th></th>\n",
              "      <th>Company</th>\n",
              "      <th>Valuation</th>\n",
              "      <th>Date Joined</th>\n",
              "      <th>Industry</th>\n",
              "      <th>City</th>\n",
              "      <th>Country</th>\n",
              "      <th>Continent</th>\n",
              "      <th>Year Founded</th>\n",
              "      <th>Funding</th>\n",
              "      <th>Select Investors</th>\n",
              "    </tr>\n",
              "  </thead>\n",
              "  <tbody>\n",
              "    <tr>\n",
              "      <th>0</th>\n",
              "      <td>Bytedance</td>\n",
              "      <td>180.0</td>\n",
              "      <td>2017-04-07</td>\n",
              "      <td>Artificial intelligence</td>\n",
              "      <td>Beijing</td>\n",
              "      <td>China</td>\n",
              "      <td>Asia</td>\n",
              "      <td>2012</td>\n",
              "      <td>$8B</td>\n",
              "      <td>Sequoia Capital China, SIG Asia Investments, S...</td>\n",
              "    </tr>\n",
              "    <tr>\n",
              "      <th>1</th>\n",
              "      <td>SpaceX</td>\n",
              "      <td>100.0</td>\n",
              "      <td>2012-12-01</td>\n",
              "      <td>Other</td>\n",
              "      <td>Hawthorne</td>\n",
              "      <td>United States</td>\n",
              "      <td>North America</td>\n",
              "      <td>2002</td>\n",
              "      <td>$7B</td>\n",
              "      <td>Founders Fund, Draper Fisher Jurvetson, Rothen...</td>\n",
              "    </tr>\n",
              "    <tr>\n",
              "      <th>2</th>\n",
              "      <td>SHEIN</td>\n",
              "      <td>100.0</td>\n",
              "      <td>2018-07-03</td>\n",
              "      <td>E-commerce &amp; direct-to-consumer</td>\n",
              "      <td>Shenzhen</td>\n",
              "      <td>China</td>\n",
              "      <td>Asia</td>\n",
              "      <td>2008</td>\n",
              "      <td>$2B</td>\n",
              "      <td>Tiger Global Management, Sequoia Capital China...</td>\n",
              "    </tr>\n",
              "  </tbody>\n",
              "</table>\n",
              "</div>\n",
              "      <button class=\"colab-df-convert\" onclick=\"convertToInteractive('df-2d3652fe-e612-45dc-8eee-238e2d5d4e08')\"\n",
              "              title=\"Convert this dataframe to an interactive table.\"\n",
              "              style=\"display:none;\">\n",
              "        \n",
              "  <svg xmlns=\"http://www.w3.org/2000/svg\" height=\"24px\"viewBox=\"0 0 24 24\"\n",
              "       width=\"24px\">\n",
              "    <path d=\"M0 0h24v24H0V0z\" fill=\"none\"/>\n",
              "    <path d=\"M18.56 5.44l.94 2.06.94-2.06 2.06-.94-2.06-.94-.94-2.06-.94 2.06-2.06.94zm-11 1L8.5 8.5l.94-2.06 2.06-.94-2.06-.94L8.5 2.5l-.94 2.06-2.06.94zm10 10l.94 2.06.94-2.06 2.06-.94-2.06-.94-.94-2.06-.94 2.06-2.06.94z\"/><path d=\"M17.41 7.96l-1.37-1.37c-.4-.4-.92-.59-1.43-.59-.52 0-1.04.2-1.43.59L10.3 9.45l-7.72 7.72c-.78.78-.78 2.05 0 2.83L4 21.41c.39.39.9.59 1.41.59.51 0 1.02-.2 1.41-.59l7.78-7.78 2.81-2.81c.8-.78.8-2.07 0-2.86zM5.41 20L4 18.59l7.72-7.72 1.47 1.35L5.41 20z\"/>\n",
              "  </svg>\n",
              "      </button>\n",
              "      \n",
              "  <style>\n",
              "    .colab-df-container {\n",
              "      display:flex;\n",
              "      flex-wrap:wrap;\n",
              "      gap: 12px;\n",
              "    }\n",
              "\n",
              "    .colab-df-convert {\n",
              "      background-color: #E8F0FE;\n",
              "      border: none;\n",
              "      border-radius: 50%;\n",
              "      cursor: pointer;\n",
              "      display: none;\n",
              "      fill: #1967D2;\n",
              "      height: 32px;\n",
              "      padding: 0 0 0 0;\n",
              "      width: 32px;\n",
              "    }\n",
              "\n",
              "    .colab-df-convert:hover {\n",
              "      background-color: #E2EBFA;\n",
              "      box-shadow: 0px 1px 2px rgba(60, 64, 67, 0.3), 0px 1px 3px 1px rgba(60, 64, 67, 0.15);\n",
              "      fill: #174EA6;\n",
              "    }\n",
              "\n",
              "    [theme=dark] .colab-df-convert {\n",
              "      background-color: #3B4455;\n",
              "      fill: #D2E3FC;\n",
              "    }\n",
              "\n",
              "    [theme=dark] .colab-df-convert:hover {\n",
              "      background-color: #434B5C;\n",
              "      box-shadow: 0px 1px 3px 1px rgba(0, 0, 0, 0.15);\n",
              "      filter: drop-shadow(0px 1px 2px rgba(0, 0, 0, 0.3));\n",
              "      fill: #FFFFFF;\n",
              "    }\n",
              "  </style>\n",
              "\n",
              "      <script>\n",
              "        const buttonEl =\n",
              "          document.querySelector('#df-2d3652fe-e612-45dc-8eee-238e2d5d4e08 button.colab-df-convert');\n",
              "        buttonEl.style.display =\n",
              "          google.colab.kernel.accessAllowed ? 'block' : 'none';\n",
              "\n",
              "        async function convertToInteractive(key) {\n",
              "          const element = document.querySelector('#df-2d3652fe-e612-45dc-8eee-238e2d5d4e08');\n",
              "          const dataTable =\n",
              "            await google.colab.kernel.invokeFunction('convertToInteractive',\n",
              "                                                     [key], {});\n",
              "          if (!dataTable) return;\n",
              "\n",
              "          const docLinkHtml = 'Like what you see? Visit the ' +\n",
              "            '<a target=\"_blank\" href=https://colab.research.google.com/notebooks/data_table.ipynb>data table notebook</a>'\n",
              "            + ' to learn more about interactive tables.';\n",
              "          element.innerHTML = '';\n",
              "          dataTable['output_type'] = 'display_data';\n",
              "          await google.colab.output.renderOutput(dataTable, element);\n",
              "          const docLink = document.createElement('div');\n",
              "          docLink.innerHTML = docLinkHtml;\n",
              "          element.appendChild(docLink);\n",
              "        }\n",
              "      </script>\n",
              "    </div>\n",
              "  </div>\n",
              "  "
            ]
          },
          "metadata": {},
          "execution_count": 8
        }
      ]
    },
    {
      "cell_type": "markdown",
      "source": [
        "### Change date joined from object datatype to datetime"
      ],
      "metadata": {
        "id": "PaL52qHPh2JN"
      }
    },
    {
      "cell_type": "code",
      "source": [
        "df['Date Joined'] = df['Date Joined'].apply(pd.to_datetime)\n",
        "df.info()"
      ],
      "metadata": {
        "colab": {
          "base_uri": "https://localhost:8080/",
          "height": 312
        },
        "id": "AaQn4NMwh5Z8",
        "outputId": "066e5fbb-a80f-46e6-e33e-22fe75c3547b"
      },
      "execution_count": 9,
      "outputs": [
        {
          "output_type": "display_data",
          "data": {
            "text/plain": [
              "<IPython.core.display.Javascript object>"
            ],
            "application/javascript": [
              "\n",
              "        if (window._pyforest_update_imports_cell) { window._pyforest_update_imports_cell('import pandas as pd'); }\n",
              "    "
            ]
          },
          "metadata": {}
        },
        {
          "output_type": "stream",
          "name": "stdout",
          "text": [
            "<class 'pandas.core.frame.DataFrame'>\n",
            "RangeIndex: 1074 entries, 0 to 1073\n",
            "Data columns (total 10 columns):\n",
            " #   Column            Non-Null Count  Dtype         \n",
            "---  ------            --------------  -----         \n",
            " 0   Company           1074 non-null   object        \n",
            " 1   Valuation         1074 non-null   float64       \n",
            " 2   Date Joined       1074 non-null   datetime64[ns]\n",
            " 3   Industry          1074 non-null   object        \n",
            " 4   City              1058 non-null   object        \n",
            " 5   Country           1074 non-null   object        \n",
            " 6   Continent         1074 non-null   object        \n",
            " 7   Year Founded      1074 non-null   int64         \n",
            " 8   Funding           1074 non-null   object        \n",
            " 9   Select Investors  1073 non-null   object        \n",
            "dtypes: datetime64[ns](1), float64(1), int64(1), object(7)\n",
            "memory usage: 84.0+ KB\n"
          ]
        }
      ]
    },
    {
      "cell_type": "markdown",
      "source": [
        "### Changing funding from object datatype to float datatype"
      ],
      "metadata": {
        "id": "CDNjZxK1nm6W"
      }
    },
    {
      "cell_type": "code",
      "source": [
        "import re\n",
        "def funds(x):\n",
        "  if 'B' in x:\n",
        "    value  = float(re.findall('\\d+', x)[0])\n",
        "  elif 'M' in x:\n",
        "    value = round(float(re.findall('\\d+', x)[0]) * 0.001, 3)\n",
        "  else:\n",
        "    # Using an abituary low number to reflect missing or unknown values\n",
        "    value = None\n",
        "  return value\n",
        "\n",
        "df['Funding'] = df['Funding'].apply(funds)"
      ],
      "metadata": {
        "id": "Utwxrm-hicBc"
      },
      "execution_count": 10,
      "outputs": []
    },
    {
      "cell_type": "markdown",
      "source": [
        "### Rename all columns to be more pythonic"
      ],
      "metadata": {
        "id": "DAyYiaDhX-hM"
      }
    },
    {
      "cell_type": "code",
      "source": [
        "# Make all column names be lowercase\n",
        "df.columns = df.columns.str.lower()\n",
        "\n",
        "# Making the columns be underscore seperated\n",
        "df.columns = df.columns.str.replace(' ','_')\n",
        "\n",
        "# Rename column valuation and funding to reflect that the values are in billion dollars\n",
        "df.rename(columns={'valuation': 'valuation(B/$)', 'funding': 'funding(B/$)'}, inplace = True)\n",
        "\n"
      ],
      "metadata": {
        "id": "oWT9tzpMYEHr"
      },
      "execution_count": 11,
      "outputs": []
    },
    {
      "cell_type": "markdown",
      "source": [
        "### Test"
      ],
      "metadata": {
        "id": "7dvnaXMibVEX"
      }
    },
    {
      "cell_type": "code",
      "source": [
        "print(df.info())\n",
        "\n",
        "df.sample(n=5, random_state=2)"
      ],
      "metadata": {
        "colab": {
          "base_uri": "https://localhost:8080/",
          "height": 632
        },
        "id": "Ag0LpMQubXP-",
        "outputId": "f4b0b7fb-3549-4e08-e9e9-3bdff4f5a3a7"
      },
      "execution_count": 12,
      "outputs": [
        {
          "output_type": "stream",
          "name": "stdout",
          "text": [
            "<class 'pandas.core.frame.DataFrame'>\n",
            "RangeIndex: 1074 entries, 0 to 1073\n",
            "Data columns (total 10 columns):\n",
            " #   Column            Non-Null Count  Dtype         \n",
            "---  ------            --------------  -----         \n",
            " 0   company           1074 non-null   object        \n",
            " 1   valuation(B/$)    1074 non-null   float64       \n",
            " 2   date_joined       1074 non-null   datetime64[ns]\n",
            " 3   industry          1074 non-null   object        \n",
            " 4   city              1058 non-null   object        \n",
            " 5   country           1074 non-null   object        \n",
            " 6   continent         1074 non-null   object        \n",
            " 7   year_founded      1074 non-null   int64         \n",
            " 8   funding(B/$)      1062 non-null   float64       \n",
            " 9   select_investors  1073 non-null   object        \n",
            "dtypes: datetime64[ns](1), float64(2), int64(1), object(6)\n",
            "memory usage: 84.0+ KB\n",
            "None\n"
          ]
        },
        {
          "output_type": "execute_result",
          "data": {
            "text/plain": [
              "               company  valuation(B/$) date_joined  \\\n",
              "577         Magic Leap             2.0  2014-10-21   \n",
              "519         Volocopter             2.0  2022-03-04   \n",
              "919  Fractal Analytics             1.0  2022-01-05   \n",
              "923              Geek+             1.0  2018-11-21   \n",
              "67                 N26             9.0  2019-01-10   \n",
              "\n",
              "                        industry        city        country      continent  \\\n",
              "577                     Hardware  Plantation  United States  North America   \n",
              "519        Auto & transportation    Bruchsal        Germany         Europe   \n",
              "919  Data management & analytics      Mumbai          India           Asia   \n",
              "923                     Hardware     Beijing          China           Asia   \n",
              "67                       Fintech      Berlin        Germany         Europe   \n",
              "\n",
              "     year_founded  funding(B/$)  \\\n",
              "577          2010         3.000   \n",
              "519          2011         0.599   \n",
              "919          2000         0.685   \n",
              "923          2015         0.439   \n",
              "67           2013         2.000   \n",
              "\n",
              "                                      select_investors  \n",
              "577  Obvious Ventures, Qualcomm Ventures, Andreesse...  \n",
              "519                btov Partners, Geely, Intel Capital  \n",
              "919          TPG Capital, Apax Partners, TA Associates  \n",
              "923  Volcanics Ventures, Vertex Ventures China, War...  \n",
              "67   Redalpine Venture Partners, Earlybird Venture ...  "
            ],
            "text/html": [
              "\n",
              "  <div id=\"df-722c03ae-f5dc-4096-965b-b1a9271a7110\">\n",
              "    <div class=\"colab-df-container\">\n",
              "      <div>\n",
              "<style scoped>\n",
              "    .dataframe tbody tr th:only-of-type {\n",
              "        vertical-align: middle;\n",
              "    }\n",
              "\n",
              "    .dataframe tbody tr th {\n",
              "        vertical-align: top;\n",
              "    }\n",
              "\n",
              "    .dataframe thead th {\n",
              "        text-align: right;\n",
              "    }\n",
              "</style>\n",
              "<table border=\"1\" class=\"dataframe\">\n",
              "  <thead>\n",
              "    <tr style=\"text-align: right;\">\n",
              "      <th></th>\n",
              "      <th>company</th>\n",
              "      <th>valuation(B/$)</th>\n",
              "      <th>date_joined</th>\n",
              "      <th>industry</th>\n",
              "      <th>city</th>\n",
              "      <th>country</th>\n",
              "      <th>continent</th>\n",
              "      <th>year_founded</th>\n",
              "      <th>funding(B/$)</th>\n",
              "      <th>select_investors</th>\n",
              "    </tr>\n",
              "  </thead>\n",
              "  <tbody>\n",
              "    <tr>\n",
              "      <th>577</th>\n",
              "      <td>Magic Leap</td>\n",
              "      <td>2.0</td>\n",
              "      <td>2014-10-21</td>\n",
              "      <td>Hardware</td>\n",
              "      <td>Plantation</td>\n",
              "      <td>United States</td>\n",
              "      <td>North America</td>\n",
              "      <td>2010</td>\n",
              "      <td>3.000</td>\n",
              "      <td>Obvious Ventures, Qualcomm Ventures, Andreesse...</td>\n",
              "    </tr>\n",
              "    <tr>\n",
              "      <th>519</th>\n",
              "      <td>Volocopter</td>\n",
              "      <td>2.0</td>\n",
              "      <td>2022-03-04</td>\n",
              "      <td>Auto &amp; transportation</td>\n",
              "      <td>Bruchsal</td>\n",
              "      <td>Germany</td>\n",
              "      <td>Europe</td>\n",
              "      <td>2011</td>\n",
              "      <td>0.599</td>\n",
              "      <td>btov Partners, Geely, Intel Capital</td>\n",
              "    </tr>\n",
              "    <tr>\n",
              "      <th>919</th>\n",
              "      <td>Fractal Analytics</td>\n",
              "      <td>1.0</td>\n",
              "      <td>2022-01-05</td>\n",
              "      <td>Data management &amp; analytics</td>\n",
              "      <td>Mumbai</td>\n",
              "      <td>India</td>\n",
              "      <td>Asia</td>\n",
              "      <td>2000</td>\n",
              "      <td>0.685</td>\n",
              "      <td>TPG Capital, Apax Partners, TA Associates</td>\n",
              "    </tr>\n",
              "    <tr>\n",
              "      <th>923</th>\n",
              "      <td>Geek+</td>\n",
              "      <td>1.0</td>\n",
              "      <td>2018-11-21</td>\n",
              "      <td>Hardware</td>\n",
              "      <td>Beijing</td>\n",
              "      <td>China</td>\n",
              "      <td>Asia</td>\n",
              "      <td>2015</td>\n",
              "      <td>0.439</td>\n",
              "      <td>Volcanics Ventures, Vertex Ventures China, War...</td>\n",
              "    </tr>\n",
              "    <tr>\n",
              "      <th>67</th>\n",
              "      <td>N26</td>\n",
              "      <td>9.0</td>\n",
              "      <td>2019-01-10</td>\n",
              "      <td>Fintech</td>\n",
              "      <td>Berlin</td>\n",
              "      <td>Germany</td>\n",
              "      <td>Europe</td>\n",
              "      <td>2013</td>\n",
              "      <td>2.000</td>\n",
              "      <td>Redalpine Venture Partners, Earlybird Venture ...</td>\n",
              "    </tr>\n",
              "  </tbody>\n",
              "</table>\n",
              "</div>\n",
              "      <button class=\"colab-df-convert\" onclick=\"convertToInteractive('df-722c03ae-f5dc-4096-965b-b1a9271a7110')\"\n",
              "              title=\"Convert this dataframe to an interactive table.\"\n",
              "              style=\"display:none;\">\n",
              "        \n",
              "  <svg xmlns=\"http://www.w3.org/2000/svg\" height=\"24px\"viewBox=\"0 0 24 24\"\n",
              "       width=\"24px\">\n",
              "    <path d=\"M0 0h24v24H0V0z\" fill=\"none\"/>\n",
              "    <path d=\"M18.56 5.44l.94 2.06.94-2.06 2.06-.94-2.06-.94-.94-2.06-.94 2.06-2.06.94zm-11 1L8.5 8.5l.94-2.06 2.06-.94-2.06-.94L8.5 2.5l-.94 2.06-2.06.94zm10 10l.94 2.06.94-2.06 2.06-.94-2.06-.94-.94-2.06-.94 2.06-2.06.94z\"/><path d=\"M17.41 7.96l-1.37-1.37c-.4-.4-.92-.59-1.43-.59-.52 0-1.04.2-1.43.59L10.3 9.45l-7.72 7.72c-.78.78-.78 2.05 0 2.83L4 21.41c.39.39.9.59 1.41.59.51 0 1.02-.2 1.41-.59l7.78-7.78 2.81-2.81c.8-.78.8-2.07 0-2.86zM5.41 20L4 18.59l7.72-7.72 1.47 1.35L5.41 20z\"/>\n",
              "  </svg>\n",
              "      </button>\n",
              "      \n",
              "  <style>\n",
              "    .colab-df-container {\n",
              "      display:flex;\n",
              "      flex-wrap:wrap;\n",
              "      gap: 12px;\n",
              "    }\n",
              "\n",
              "    .colab-df-convert {\n",
              "      background-color: #E8F0FE;\n",
              "      border: none;\n",
              "      border-radius: 50%;\n",
              "      cursor: pointer;\n",
              "      display: none;\n",
              "      fill: #1967D2;\n",
              "      height: 32px;\n",
              "      padding: 0 0 0 0;\n",
              "      width: 32px;\n",
              "    }\n",
              "\n",
              "    .colab-df-convert:hover {\n",
              "      background-color: #E2EBFA;\n",
              "      box-shadow: 0px 1px 2px rgba(60, 64, 67, 0.3), 0px 1px 3px 1px rgba(60, 64, 67, 0.15);\n",
              "      fill: #174EA6;\n",
              "    }\n",
              "\n",
              "    [theme=dark] .colab-df-convert {\n",
              "      background-color: #3B4455;\n",
              "      fill: #D2E3FC;\n",
              "    }\n",
              "\n",
              "    [theme=dark] .colab-df-convert:hover {\n",
              "      background-color: #434B5C;\n",
              "      box-shadow: 0px 1px 3px 1px rgba(0, 0, 0, 0.15);\n",
              "      filter: drop-shadow(0px 1px 2px rgba(0, 0, 0, 0.3));\n",
              "      fill: #FFFFFF;\n",
              "    }\n",
              "  </style>\n",
              "\n",
              "      <script>\n",
              "        const buttonEl =\n",
              "          document.querySelector('#df-722c03ae-f5dc-4096-965b-b1a9271a7110 button.colab-df-convert');\n",
              "        buttonEl.style.display =\n",
              "          google.colab.kernel.accessAllowed ? 'block' : 'none';\n",
              "\n",
              "        async function convertToInteractive(key) {\n",
              "          const element = document.querySelector('#df-722c03ae-f5dc-4096-965b-b1a9271a7110');\n",
              "          const dataTable =\n",
              "            await google.colab.kernel.invokeFunction('convertToInteractive',\n",
              "                                                     [key], {});\n",
              "          if (!dataTable) return;\n",
              "\n",
              "          const docLinkHtml = 'Like what you see? Visit the ' +\n",
              "            '<a target=\"_blank\" href=https://colab.research.google.com/notebooks/data_table.ipynb>data table notebook</a>'\n",
              "            + ' to learn more about interactive tables.';\n",
              "          element.innerHTML = '';\n",
              "          dataTable['output_type'] = 'display_data';\n",
              "          await google.colab.output.renderOutput(dataTable, element);\n",
              "          const docLink = document.createElement('div');\n",
              "          docLink.innerHTML = docLinkHtml;\n",
              "          element.appendChild(docLink);\n",
              "        }\n",
              "      </script>\n",
              "    </div>\n",
              "  </div>\n",
              "  "
            ]
          },
          "metadata": {},
          "execution_count": 12
        }
      ]
    },
    {
      "cell_type": "markdown",
      "source": [
        "### Fixing missing values"
      ],
      "metadata": {
        "id": "KOs3673Pdi7F"
      }
    },
    {
      "cell_type": "code",
      "source": [
        "df.isna().sum().sort_values(ascending= False)"
      ],
      "metadata": {
        "colab": {
          "base_uri": "https://localhost:8080/"
        },
        "id": "xdzZgFQadpgg",
        "outputId": "4d00cef4-c5ac-4075-fb2f-6c47d1606f50"
      },
      "execution_count": 13,
      "outputs": [
        {
          "output_type": "execute_result",
          "data": {
            "text/plain": [
              "city                16\n",
              "funding(B/$)        12\n",
              "select_investors     1\n",
              "company              0\n",
              "valuation(B/$)       0\n",
              "date_joined          0\n",
              "industry             0\n",
              "country              0\n",
              "continent            0\n",
              "year_founded         0\n",
              "dtype: int64"
            ]
          },
          "metadata": {},
          "execution_count": 13
        }
      ]
    },
    {
      "cell_type": "markdown",
      "source": [
        "The only column that is really of concern for us is the funding column.\n",
        "\n",
        "We can further investigate the missing values in the funding column to know how to deal with the missing values"
      ],
      "metadata": {
        "id": "vvIUzc2hegPv"
      }
    },
    {
      "cell_type": "code",
      "source": [
        "df[df['funding(B/$)'].isna()]"
      ],
      "metadata": {
        "colab": {
          "base_uri": "https://localhost:8080/",
          "height": 678
        },
        "id": "zIqUgT5Ced8l",
        "outputId": "35aaa066-6d1c-4b7d-d089-e866d4b68bf7"
      },
      "execution_count": 14,
      "outputs": [
        {
          "output_type": "execute_result",
          "data": {
            "text/plain": [
              "              company  valuation(B/$) date_joined  \\\n",
              "215            SSENSE             4.0  2021-06-08   \n",
              "424           Uplight             2.0  2021-03-03   \n",
              "567               ISN             2.0  2020-12-17   \n",
              "639        SITECH DEV             1.0  2019-05-16   \n",
              "651          Xiaobing             1.0  2021-07-12   \n",
              "717            Veepee             1.0  2007-07-02   \n",
              "733         DistroKid             1.0  2021-08-16   \n",
              "866          Assembly             1.0  2021-09-21   \n",
              "890      Carson Group             1.0  2021-07-14   \n",
              "945   Iodine Software             1.0  2021-12-01   \n",
              "947      Kendra Scott             1.0  2016-12-21   \n",
              "1002           Poizon             1.0  2019-04-29   \n",
              "\n",
              "                                 industry                   city  \\\n",
              "215       E-commerce & direct-to-consumer               Montreal   \n",
              "424                                 Other                Boulder   \n",
              "567   Supply chain, logistics, & delivery                 Dallas   \n",
              "639                                 Other                Guiyang   \n",
              "651                               Fintech                Beijing   \n",
              "717       E-commerce & direct-to-consumer  La Plaine Saint-Denis   \n",
              "733          Internet software & services               New York   \n",
              "866          Internet software & services            Culver City   \n",
              "890                               Fintech                Lincoln   \n",
              "945           Data management & analytics                 Austin   \n",
              "947                     Consumer & retail                 Austin   \n",
              "1002          Mobile & telecommunications               Shanghai   \n",
              "\n",
              "            country      continent  year_founded  funding(B/$)  \\\n",
              "215          Canada  North America          2003           NaN   \n",
              "424   United States  North America          2019           NaN   \n",
              "567   United States  North America          2001           NaN   \n",
              "639           China           Asia          2017           NaN   \n",
              "651           China           Asia          2020           NaN   \n",
              "717          France         Europe          2001           NaN   \n",
              "733   United States  North America          2013           NaN   \n",
              "866   United States  North America          2019           NaN   \n",
              "890   United States  North America          2012           NaN   \n",
              "945   United States  North America          2010           NaN   \n",
              "947   United States  North America          2002           NaN   \n",
              "1002          China           Asia          2015           NaN   \n",
              "\n",
              "                                       select_investors  \n",
              "215                                     Sequoia Capital  \n",
              "424   Rubicon Technology Partners, Max Ventures, Inc...  \n",
              "567                                          Blackstone  \n",
              "639                            China Prosperity Capital  \n",
              "651   NetEase Capital, Northern Light Venture Capita...  \n",
              "717                      Summit Partners, Qatar Holding  \n",
              "733   Insight Partners, Silversmith Capital Partners...  \n",
              "866   Advent International, PSG, Providence Equity P...  \n",
              "890                                        Bain Capital  \n",
              "945   Advent International, Bain Capital Ventures, S...  \n",
              "947        Berkshire Partners, Norwest Venture Partners  \n",
              "1002  DST Global, Sequoia Capital China, Gaorong Cap...  "
            ],
            "text/html": [
              "\n",
              "  <div id=\"df-4b59ab18-3daa-4808-b5db-8fe5de5ec74d\">\n",
              "    <div class=\"colab-df-container\">\n",
              "      <div>\n",
              "<style scoped>\n",
              "    .dataframe tbody tr th:only-of-type {\n",
              "        vertical-align: middle;\n",
              "    }\n",
              "\n",
              "    .dataframe tbody tr th {\n",
              "        vertical-align: top;\n",
              "    }\n",
              "\n",
              "    .dataframe thead th {\n",
              "        text-align: right;\n",
              "    }\n",
              "</style>\n",
              "<table border=\"1\" class=\"dataframe\">\n",
              "  <thead>\n",
              "    <tr style=\"text-align: right;\">\n",
              "      <th></th>\n",
              "      <th>company</th>\n",
              "      <th>valuation(B/$)</th>\n",
              "      <th>date_joined</th>\n",
              "      <th>industry</th>\n",
              "      <th>city</th>\n",
              "      <th>country</th>\n",
              "      <th>continent</th>\n",
              "      <th>year_founded</th>\n",
              "      <th>funding(B/$)</th>\n",
              "      <th>select_investors</th>\n",
              "    </tr>\n",
              "  </thead>\n",
              "  <tbody>\n",
              "    <tr>\n",
              "      <th>215</th>\n",
              "      <td>SSENSE</td>\n",
              "      <td>4.0</td>\n",
              "      <td>2021-06-08</td>\n",
              "      <td>E-commerce &amp; direct-to-consumer</td>\n",
              "      <td>Montreal</td>\n",
              "      <td>Canada</td>\n",
              "      <td>North America</td>\n",
              "      <td>2003</td>\n",
              "      <td>NaN</td>\n",
              "      <td>Sequoia Capital</td>\n",
              "    </tr>\n",
              "    <tr>\n",
              "      <th>424</th>\n",
              "      <td>Uplight</td>\n",
              "      <td>2.0</td>\n",
              "      <td>2021-03-03</td>\n",
              "      <td>Other</td>\n",
              "      <td>Boulder</td>\n",
              "      <td>United States</td>\n",
              "      <td>North America</td>\n",
              "      <td>2019</td>\n",
              "      <td>NaN</td>\n",
              "      <td>Rubicon Technology Partners, Max Ventures, Inc...</td>\n",
              "    </tr>\n",
              "    <tr>\n",
              "      <th>567</th>\n",
              "      <td>ISN</td>\n",
              "      <td>2.0</td>\n",
              "      <td>2020-12-17</td>\n",
              "      <td>Supply chain, logistics, &amp; delivery</td>\n",
              "      <td>Dallas</td>\n",
              "      <td>United States</td>\n",
              "      <td>North America</td>\n",
              "      <td>2001</td>\n",
              "      <td>NaN</td>\n",
              "      <td>Blackstone</td>\n",
              "    </tr>\n",
              "    <tr>\n",
              "      <th>639</th>\n",
              "      <td>SITECH DEV</td>\n",
              "      <td>1.0</td>\n",
              "      <td>2019-05-16</td>\n",
              "      <td>Other</td>\n",
              "      <td>Guiyang</td>\n",
              "      <td>China</td>\n",
              "      <td>Asia</td>\n",
              "      <td>2017</td>\n",
              "      <td>NaN</td>\n",
              "      <td>China Prosperity Capital</td>\n",
              "    </tr>\n",
              "    <tr>\n",
              "      <th>651</th>\n",
              "      <td>Xiaobing</td>\n",
              "      <td>1.0</td>\n",
              "      <td>2021-07-12</td>\n",
              "      <td>Fintech</td>\n",
              "      <td>Beijing</td>\n",
              "      <td>China</td>\n",
              "      <td>Asia</td>\n",
              "      <td>2020</td>\n",
              "      <td>NaN</td>\n",
              "      <td>NetEase Capital, Northern Light Venture Capita...</td>\n",
              "    </tr>\n",
              "    <tr>\n",
              "      <th>717</th>\n",
              "      <td>Veepee</td>\n",
              "      <td>1.0</td>\n",
              "      <td>2007-07-02</td>\n",
              "      <td>E-commerce &amp; direct-to-consumer</td>\n",
              "      <td>La Plaine Saint-Denis</td>\n",
              "      <td>France</td>\n",
              "      <td>Europe</td>\n",
              "      <td>2001</td>\n",
              "      <td>NaN</td>\n",
              "      <td>Summit Partners, Qatar Holding</td>\n",
              "    </tr>\n",
              "    <tr>\n",
              "      <th>733</th>\n",
              "      <td>DistroKid</td>\n",
              "      <td>1.0</td>\n",
              "      <td>2021-08-16</td>\n",
              "      <td>Internet software &amp; services</td>\n",
              "      <td>New York</td>\n",
              "      <td>United States</td>\n",
              "      <td>North America</td>\n",
              "      <td>2013</td>\n",
              "      <td>NaN</td>\n",
              "      <td>Insight Partners, Silversmith Capital Partners...</td>\n",
              "    </tr>\n",
              "    <tr>\n",
              "      <th>866</th>\n",
              "      <td>Assembly</td>\n",
              "      <td>1.0</td>\n",
              "      <td>2021-09-21</td>\n",
              "      <td>Internet software &amp; services</td>\n",
              "      <td>Culver City</td>\n",
              "      <td>United States</td>\n",
              "      <td>North America</td>\n",
              "      <td>2019</td>\n",
              "      <td>NaN</td>\n",
              "      <td>Advent International, PSG, Providence Equity P...</td>\n",
              "    </tr>\n",
              "    <tr>\n",
              "      <th>890</th>\n",
              "      <td>Carson Group</td>\n",
              "      <td>1.0</td>\n",
              "      <td>2021-07-14</td>\n",
              "      <td>Fintech</td>\n",
              "      <td>Lincoln</td>\n",
              "      <td>United States</td>\n",
              "      <td>North America</td>\n",
              "      <td>2012</td>\n",
              "      <td>NaN</td>\n",
              "      <td>Bain Capital</td>\n",
              "    </tr>\n",
              "    <tr>\n",
              "      <th>945</th>\n",
              "      <td>Iodine Software</td>\n",
              "      <td>1.0</td>\n",
              "      <td>2021-12-01</td>\n",
              "      <td>Data management &amp; analytics</td>\n",
              "      <td>Austin</td>\n",
              "      <td>United States</td>\n",
              "      <td>North America</td>\n",
              "      <td>2010</td>\n",
              "      <td>NaN</td>\n",
              "      <td>Advent International, Bain Capital Ventures, S...</td>\n",
              "    </tr>\n",
              "    <tr>\n",
              "      <th>947</th>\n",
              "      <td>Kendra Scott</td>\n",
              "      <td>1.0</td>\n",
              "      <td>2016-12-21</td>\n",
              "      <td>Consumer &amp; retail</td>\n",
              "      <td>Austin</td>\n",
              "      <td>United States</td>\n",
              "      <td>North America</td>\n",
              "      <td>2002</td>\n",
              "      <td>NaN</td>\n",
              "      <td>Berkshire Partners, Norwest Venture Partners</td>\n",
              "    </tr>\n",
              "    <tr>\n",
              "      <th>1002</th>\n",
              "      <td>Poizon</td>\n",
              "      <td>1.0</td>\n",
              "      <td>2019-04-29</td>\n",
              "      <td>Mobile &amp; telecommunications</td>\n",
              "      <td>Shanghai</td>\n",
              "      <td>China</td>\n",
              "      <td>Asia</td>\n",
              "      <td>2015</td>\n",
              "      <td>NaN</td>\n",
              "      <td>DST Global, Sequoia Capital China, Gaorong Cap...</td>\n",
              "    </tr>\n",
              "  </tbody>\n",
              "</table>\n",
              "</div>\n",
              "      <button class=\"colab-df-convert\" onclick=\"convertToInteractive('df-4b59ab18-3daa-4808-b5db-8fe5de5ec74d')\"\n",
              "              title=\"Convert this dataframe to an interactive table.\"\n",
              "              style=\"display:none;\">\n",
              "        \n",
              "  <svg xmlns=\"http://www.w3.org/2000/svg\" height=\"24px\"viewBox=\"0 0 24 24\"\n",
              "       width=\"24px\">\n",
              "    <path d=\"M0 0h24v24H0V0z\" fill=\"none\"/>\n",
              "    <path d=\"M18.56 5.44l.94 2.06.94-2.06 2.06-.94-2.06-.94-.94-2.06-.94 2.06-2.06.94zm-11 1L8.5 8.5l.94-2.06 2.06-.94-2.06-.94L8.5 2.5l-.94 2.06-2.06.94zm10 10l.94 2.06.94-2.06 2.06-.94-2.06-.94-.94-2.06-.94 2.06-2.06.94z\"/><path d=\"M17.41 7.96l-1.37-1.37c-.4-.4-.92-.59-1.43-.59-.52 0-1.04.2-1.43.59L10.3 9.45l-7.72 7.72c-.78.78-.78 2.05 0 2.83L4 21.41c.39.39.9.59 1.41.59.51 0 1.02-.2 1.41-.59l7.78-7.78 2.81-2.81c.8-.78.8-2.07 0-2.86zM5.41 20L4 18.59l7.72-7.72 1.47 1.35L5.41 20z\"/>\n",
              "  </svg>\n",
              "      </button>\n",
              "      \n",
              "  <style>\n",
              "    .colab-df-container {\n",
              "      display:flex;\n",
              "      flex-wrap:wrap;\n",
              "      gap: 12px;\n",
              "    }\n",
              "\n",
              "    .colab-df-convert {\n",
              "      background-color: #E8F0FE;\n",
              "      border: none;\n",
              "      border-radius: 50%;\n",
              "      cursor: pointer;\n",
              "      display: none;\n",
              "      fill: #1967D2;\n",
              "      height: 32px;\n",
              "      padding: 0 0 0 0;\n",
              "      width: 32px;\n",
              "    }\n",
              "\n",
              "    .colab-df-convert:hover {\n",
              "      background-color: #E2EBFA;\n",
              "      box-shadow: 0px 1px 2px rgba(60, 64, 67, 0.3), 0px 1px 3px 1px rgba(60, 64, 67, 0.15);\n",
              "      fill: #174EA6;\n",
              "    }\n",
              "\n",
              "    [theme=dark] .colab-df-convert {\n",
              "      background-color: #3B4455;\n",
              "      fill: #D2E3FC;\n",
              "    }\n",
              "\n",
              "    [theme=dark] .colab-df-convert:hover {\n",
              "      background-color: #434B5C;\n",
              "      box-shadow: 0px 1px 3px 1px rgba(0, 0, 0, 0.15);\n",
              "      filter: drop-shadow(0px 1px 2px rgba(0, 0, 0, 0.3));\n",
              "      fill: #FFFFFF;\n",
              "    }\n",
              "  </style>\n",
              "\n",
              "      <script>\n",
              "        const buttonEl =\n",
              "          document.querySelector('#df-4b59ab18-3daa-4808-b5db-8fe5de5ec74d button.colab-df-convert');\n",
              "        buttonEl.style.display =\n",
              "          google.colab.kernel.accessAllowed ? 'block' : 'none';\n",
              "\n",
              "        async function convertToInteractive(key) {\n",
              "          const element = document.querySelector('#df-4b59ab18-3daa-4808-b5db-8fe5de5ec74d');\n",
              "          const dataTable =\n",
              "            await google.colab.kernel.invokeFunction('convertToInteractive',\n",
              "                                                     [key], {});\n",
              "          if (!dataTable) return;\n",
              "\n",
              "          const docLinkHtml = 'Like what you see? Visit the ' +\n",
              "            '<a target=\"_blank\" href=https://colab.research.google.com/notebooks/data_table.ipynb>data table notebook</a>'\n",
              "            + ' to learn more about interactive tables.';\n",
              "          element.innerHTML = '';\n",
              "          dataTable['output_type'] = 'display_data';\n",
              "          await google.colab.output.renderOutput(dataTable, element);\n",
              "          const docLink = document.createElement('div');\n",
              "          docLink.innerHTML = docLinkHtml;\n",
              "          element.appendChild(docLink);\n",
              "        }\n",
              "      </script>\n",
              "    </div>\n",
              "  </div>\n",
              "  "
            ]
          },
          "metadata": {},
          "execution_count": 14
        }
      ]
    },
    {
      "cell_type": "markdown",
      "source": [
        "## Data Exploration"
      ],
      "metadata": {
        "id": "uwxq5G34brlt"
      }
    },
    {
      "cell_type": "markdown",
      "source": [
        "### Getting statistical analysis of the dataset"
      ],
      "metadata": {
        "id": "SnPYUPx0cRlm"
      }
    },
    {
      "cell_type": "code",
      "source": [
        "df.describe()"
      ],
      "metadata": {
        "colab": {
          "base_uri": "https://localhost:8080/",
          "height": 300
        },
        "id": "QSy7zEKxcAAt",
        "outputId": "3a8fb2f2-e810-41df-ee09-dde109295b36"
      },
      "execution_count": 15,
      "outputs": [
        {
          "output_type": "execute_result",
          "data": {
            "text/plain": [
              "       valuation(B/$)  year_founded  funding(B/$)\n",
              "count     1074.000000   1074.000000   1062.000000\n",
              "mean         3.455307   2012.895717      0.557269\n",
              "std          8.547022      5.698573      0.810134\n",
              "min          1.000000   1919.000000      0.000000\n",
              "25%          1.000000   2011.000000      0.223000\n",
              "50%          2.000000   2014.000000      0.370000\n",
              "75%          3.000000   2016.000000      0.609250\n",
              "max        180.000000   2021.000000     14.000000"
            ],
            "text/html": [
              "\n",
              "  <div id=\"df-0fbebe44-9cf7-4788-af52-7f61c4e3ea81\">\n",
              "    <div class=\"colab-df-container\">\n",
              "      <div>\n",
              "<style scoped>\n",
              "    .dataframe tbody tr th:only-of-type {\n",
              "        vertical-align: middle;\n",
              "    }\n",
              "\n",
              "    .dataframe tbody tr th {\n",
              "        vertical-align: top;\n",
              "    }\n",
              "\n",
              "    .dataframe thead th {\n",
              "        text-align: right;\n",
              "    }\n",
              "</style>\n",
              "<table border=\"1\" class=\"dataframe\">\n",
              "  <thead>\n",
              "    <tr style=\"text-align: right;\">\n",
              "      <th></th>\n",
              "      <th>valuation(B/$)</th>\n",
              "      <th>year_founded</th>\n",
              "      <th>funding(B/$)</th>\n",
              "    </tr>\n",
              "  </thead>\n",
              "  <tbody>\n",
              "    <tr>\n",
              "      <th>count</th>\n",
              "      <td>1074.000000</td>\n",
              "      <td>1074.000000</td>\n",
              "      <td>1062.000000</td>\n",
              "    </tr>\n",
              "    <tr>\n",
              "      <th>mean</th>\n",
              "      <td>3.455307</td>\n",
              "      <td>2012.895717</td>\n",
              "      <td>0.557269</td>\n",
              "    </tr>\n",
              "    <tr>\n",
              "      <th>std</th>\n",
              "      <td>8.547022</td>\n",
              "      <td>5.698573</td>\n",
              "      <td>0.810134</td>\n",
              "    </tr>\n",
              "    <tr>\n",
              "      <th>min</th>\n",
              "      <td>1.000000</td>\n",
              "      <td>1919.000000</td>\n",
              "      <td>0.000000</td>\n",
              "    </tr>\n",
              "    <tr>\n",
              "      <th>25%</th>\n",
              "      <td>1.000000</td>\n",
              "      <td>2011.000000</td>\n",
              "      <td>0.223000</td>\n",
              "    </tr>\n",
              "    <tr>\n",
              "      <th>50%</th>\n",
              "      <td>2.000000</td>\n",
              "      <td>2014.000000</td>\n",
              "      <td>0.370000</td>\n",
              "    </tr>\n",
              "    <tr>\n",
              "      <th>75%</th>\n",
              "      <td>3.000000</td>\n",
              "      <td>2016.000000</td>\n",
              "      <td>0.609250</td>\n",
              "    </tr>\n",
              "    <tr>\n",
              "      <th>max</th>\n",
              "      <td>180.000000</td>\n",
              "      <td>2021.000000</td>\n",
              "      <td>14.000000</td>\n",
              "    </tr>\n",
              "  </tbody>\n",
              "</table>\n",
              "</div>\n",
              "      <button class=\"colab-df-convert\" onclick=\"convertToInteractive('df-0fbebe44-9cf7-4788-af52-7f61c4e3ea81')\"\n",
              "              title=\"Convert this dataframe to an interactive table.\"\n",
              "              style=\"display:none;\">\n",
              "        \n",
              "  <svg xmlns=\"http://www.w3.org/2000/svg\" height=\"24px\"viewBox=\"0 0 24 24\"\n",
              "       width=\"24px\">\n",
              "    <path d=\"M0 0h24v24H0V0z\" fill=\"none\"/>\n",
              "    <path d=\"M18.56 5.44l.94 2.06.94-2.06 2.06-.94-2.06-.94-.94-2.06-.94 2.06-2.06.94zm-11 1L8.5 8.5l.94-2.06 2.06-.94-2.06-.94L8.5 2.5l-.94 2.06-2.06.94zm10 10l.94 2.06.94-2.06 2.06-.94-2.06-.94-.94-2.06-.94 2.06-2.06.94z\"/><path d=\"M17.41 7.96l-1.37-1.37c-.4-.4-.92-.59-1.43-.59-.52 0-1.04.2-1.43.59L10.3 9.45l-7.72 7.72c-.78.78-.78 2.05 0 2.83L4 21.41c.39.39.9.59 1.41.59.51 0 1.02-.2 1.41-.59l7.78-7.78 2.81-2.81c.8-.78.8-2.07 0-2.86zM5.41 20L4 18.59l7.72-7.72 1.47 1.35L5.41 20z\"/>\n",
              "  </svg>\n",
              "      </button>\n",
              "      \n",
              "  <style>\n",
              "    .colab-df-container {\n",
              "      display:flex;\n",
              "      flex-wrap:wrap;\n",
              "      gap: 12px;\n",
              "    }\n",
              "\n",
              "    .colab-df-convert {\n",
              "      background-color: #E8F0FE;\n",
              "      border: none;\n",
              "      border-radius: 50%;\n",
              "      cursor: pointer;\n",
              "      display: none;\n",
              "      fill: #1967D2;\n",
              "      height: 32px;\n",
              "      padding: 0 0 0 0;\n",
              "      width: 32px;\n",
              "    }\n",
              "\n",
              "    .colab-df-convert:hover {\n",
              "      background-color: #E2EBFA;\n",
              "      box-shadow: 0px 1px 2px rgba(60, 64, 67, 0.3), 0px 1px 3px 1px rgba(60, 64, 67, 0.15);\n",
              "      fill: #174EA6;\n",
              "    }\n",
              "\n",
              "    [theme=dark] .colab-df-convert {\n",
              "      background-color: #3B4455;\n",
              "      fill: #D2E3FC;\n",
              "    }\n",
              "\n",
              "    [theme=dark] .colab-df-convert:hover {\n",
              "      background-color: #434B5C;\n",
              "      box-shadow: 0px 1px 3px 1px rgba(0, 0, 0, 0.15);\n",
              "      filter: drop-shadow(0px 1px 2px rgba(0, 0, 0, 0.3));\n",
              "      fill: #FFFFFF;\n",
              "    }\n",
              "  </style>\n",
              "\n",
              "      <script>\n",
              "        const buttonEl =\n",
              "          document.querySelector('#df-0fbebe44-9cf7-4788-af52-7f61c4e3ea81 button.colab-df-convert');\n",
              "        buttonEl.style.display =\n",
              "          google.colab.kernel.accessAllowed ? 'block' : 'none';\n",
              "\n",
              "        async function convertToInteractive(key) {\n",
              "          const element = document.querySelector('#df-0fbebe44-9cf7-4788-af52-7f61c4e3ea81');\n",
              "          const dataTable =\n",
              "            await google.colab.kernel.invokeFunction('convertToInteractive',\n",
              "                                                     [key], {});\n",
              "          if (!dataTable) return;\n",
              "\n",
              "          const docLinkHtml = 'Like what you see? Visit the ' +\n",
              "            '<a target=\"_blank\" href=https://colab.research.google.com/notebooks/data_table.ipynb>data table notebook</a>'\n",
              "            + ' to learn more about interactive tables.';\n",
              "          element.innerHTML = '';\n",
              "          dataTable['output_type'] = 'display_data';\n",
              "          await google.colab.output.renderOutput(dataTable, element);\n",
              "          const docLink = document.createElement('div');\n",
              "          docLink.innerHTML = docLinkHtml;\n",
              "          element.appendChild(docLink);\n",
              "        }\n",
              "      </script>\n",
              "    </div>\n",
              "  </div>\n",
              "  "
            ]
          },
          "metadata": {},
          "execution_count": 15
        }
      ]
    },
    {
      "cell_type": "markdown",
      "source": [
        "### Getting a visual distribution of funding and valuation"
      ],
      "metadata": {
        "id": "xILj1-xy2CIK"
      }
    },
    {
      "cell_type": "code",
      "source": [
        "plt.rcParams[\"figure.figsize\"] = (20, 5)\n",
        "\n",
        "sns.countplot(x= 'valuation(B/$)', data = df)\n",
        "\n",
        "plt.title('Distribution Count for Valuation')\n",
        "plt.xlabel('Valuation(B/$')\n",
        "plt.ylabel('Count');"
      ],
      "metadata": {
        "colab": {
          "base_uri": "https://localhost:8080/",
          "height": 350
        },
        "id": "dmt-CziJ2Lmi",
        "outputId": "cf5b3cee-ec90-41fa-9129-92412eb79b4a"
      },
      "execution_count": 16,
      "outputs": [
        {
          "output_type": "display_data",
          "data": {
            "text/plain": [
              "<IPython.core.display.Javascript object>"
            ],
            "application/javascript": [
              "\n",
              "        if (window._pyforest_update_imports_cell) { window._pyforest_update_imports_cell('import matplotlib.pyplot as plt\\nimport pandas as pd'); }\n",
              "    "
            ]
          },
          "metadata": {}
        },
        {
          "output_type": "display_data",
          "data": {
            "text/plain": [
              "<IPython.core.display.Javascript object>"
            ],
            "application/javascript": [
              "\n",
              "        if (window._pyforest_update_imports_cell) { window._pyforest_update_imports_cell('import seaborn as sns\\nimport matplotlib.pyplot as plt\\nimport pandas as pd'); }\n",
              "    "
            ]
          },
          "metadata": {}
        },
        {
          "output_type": "display_data",
          "data": {
            "text/plain": [
              "<IPython.core.display.Javascript object>"
            ],
            "application/javascript": [
              "\n",
              "        if (window._pyforest_update_imports_cell) { window._pyforest_update_imports_cell('import seaborn as sns\\nimport matplotlib.pyplot as plt\\nimport pandas as pd'); }\n",
              "    "
            ]
          },
          "metadata": {}
        },
        {
          "output_type": "display_data",
          "data": {
            "text/plain": [
              "<IPython.core.display.Javascript object>"
            ],
            "application/javascript": [
              "\n",
              "        if (window._pyforest_update_imports_cell) { window._pyforest_update_imports_cell('import seaborn as sns\\nimport matplotlib.pyplot as plt\\nimport pandas as pd'); }\n",
              "    "
            ]
          },
          "metadata": {}
        },
        {
          "output_type": "display_data",
          "data": {
            "text/plain": [
              "<IPython.core.display.Javascript object>"
            ],
            "application/javascript": [
              "\n",
              "        if (window._pyforest_update_imports_cell) { window._pyforest_update_imports_cell('import seaborn as sns\\nimport matplotlib.pyplot as plt\\nimport pandas as pd'); }\n",
              "    "
            ]
          },
          "metadata": {}
        },
        {
          "output_type": "display_data",
          "data": {
            "text/plain": [
              "<Figure size 1440x360 with 1 Axes>"
            ],
            "image/png": "[encoded data removed]"
          },
          "metadata": {
            "needs_background": "light"
          }
        }
      ]
    },
    {
      "cell_type": "markdown",
      "source": [
        "### Question: Which cities have the most unicorns? Are there any cities that appear to be industry hubs"
      ],
      "metadata": {
        "id": "bxnZDSYyuzBr"
      }
    },
    {
      "cell_type": "code",
      "source": [
        "# Top 5 cities with the most unicorns\n",
        "\n",
        "top_5_cites = df['city'].value_counts().head().reset_index()\n",
        "top_5_cites.columns=['city', 'count']\n",
        "\n",
        "top_5_cites"
      ],
      "metadata": {
        "colab": {
          "base_uri": "https://localhost:8080/",
          "height": 206
        },
        "id": "MvanxPRruyqt",
        "outputId": "08115a80-2a1f-4c2a-8726-c7dfcdcba408"
      },
      "execution_count": 31,
      "outputs": [
        {
          "output_type": "execute_result",
          "data": {
            "text/plain": [
              "            city  count\n",
              "0  San Francisco    152\n",
              "1       New York    103\n",
              "2        Beijing     63\n",
              "3       Shanghai     44\n",
              "4         London     34"
            ],
            "text/html": [
              "\n",
              "  <div id=\"df-498b4f84-efa9-412d-9cf9-aa196d381008\">\n",
              "    <div class=\"colab-df-container\">\n",
              "      <div>\n",
              "<style scoped>\n",
              "    .dataframe tbody tr th:only-of-type {\n",
              "        vertical-align: middle;\n",
              "    }\n",
              "\n",
              "    .dataframe tbody tr th {\n",
              "        vertical-align: top;\n",
              "    }\n",
              "\n",
              "    .dataframe thead th {\n",
              "        text-align: right;\n",
              "    }\n",
              "</style>\n",
              "<table border=\"1\" class=\"dataframe\">\n",
              "  <thead>\n",
              "    <tr style=\"text-align: right;\">\n",
              "      <th></th>\n",
              "      <th>city</th>\n",
              "      <th>count</th>\n",
              "    </tr>\n",
              "  </thead>\n",
              "  <tbody>\n",
              "    <tr>\n",
              "      <th>0</th>\n",
              "      <td>San Francisco</td>\n",
              "      <td>152</td>\n",
              "    </tr>\n",
              "    <tr>\n",
              "      <th>1</th>\n",
              "      <td>New York</td>\n",
              "      <td>103</td>\n",
              "    </tr>\n",
              "    <tr>\n",
              "      <th>2</th>\n",
              "      <td>Beijing</td>\n",
              "      <td>63</td>\n",
              "    </tr>\n",
              "    <tr>\n",
              "      <th>3</th>\n",
              "      <td>Shanghai</td>\n",
              "      <td>44</td>\n",
              "    </tr>\n",
              "    <tr>\n",
              "      <th>4</th>\n",
              "      <td>London</td>\n",
              "      <td>34</td>\n",
              "    </tr>\n",
              "  </tbody>\n",
              "</table>\n",
              "</div>\n",
              "      <button class=\"colab-df-convert\" onclick=\"convertToInteractive('df-498b4f84-efa9-412d-9cf9-aa196d381008')\"\n",
              "              title=\"Convert this dataframe to an interactive table.\"\n",
              "              style=\"display:none;\">\n",
              "        \n",
              "  <svg xmlns=\"http://www.w3.org/2000/svg\" height=\"24px\"viewBox=\"0 0 24 24\"\n",
              "       width=\"24px\">\n",
              "    <path d=\"M0 0h24v24H0V0z\" fill=\"none\"/>\n",
              "    <path d=\"M18.56 5.44l.94 2.06.94-2.06 2.06-.94-2.06-.94-.94-2.06-.94 2.06-2.06.94zm-11 1L8.5 8.5l.94-2.06 2.06-.94-2.06-.94L8.5 2.5l-.94 2.06-2.06.94zm10 10l.94 2.06.94-2.06 2.06-.94-2.06-.94-.94-2.06-.94 2.06-2.06.94z\"/><path d=\"M17.41 7.96l-1.37-1.37c-.4-.4-.92-.59-1.43-.59-.52 0-1.04.2-1.43.59L10.3 9.45l-7.72 7.72c-.78.78-.78 2.05 0 2.83L4 21.41c.39.39.9.59 1.41.59.51 0 1.02-.2 1.41-.59l7.78-7.78 2.81-2.81c.8-.78.8-2.07 0-2.86zM5.41 20L4 18.59l7.72-7.72 1.47 1.35L5.41 20z\"/>\n",
              "  </svg>\n",
              "      </button>\n",
              "      \n",
              "  <style>\n",
              "    .colab-df-container {\n",
              "      display:flex;\n",
              "      flex-wrap:wrap;\n",
              "      gap: 12px;\n",
              "    }\n",
              "\n",
              "    .colab-df-convert {\n",
              "      background-color: #E8F0FE;\n",
              "      border: none;\n",
              "      border-radius: 50%;\n",
              "      cursor: pointer;\n",
              "      display: none;\n",
              "      fill: #1967D2;\n",
              "      height: 32px;\n",
              "      padding: 0 0 0 0;\n",
              "      width: 32px;\n",
              "    }\n",
              "\n",
              "    .colab-df-convert:hover {\n",
              "      background-color: #E2EBFA;\n",
              "      box-shadow: 0px 1px 2px rgba(60, 64, 67, 0.3), 0px 1px 3px 1px rgba(60, 64, 67, 0.15);\n",
              "      fill: #174EA6;\n",
              "    }\n",
              "\n",
              "    [theme=dark] .colab-df-convert {\n",
              "      background-color: #3B4455;\n",
              "      fill: #D2E3FC;\n",
              "    }\n",
              "\n",
              "    [theme=dark] .colab-df-convert:hover {\n",
              "      background-color: #434B5C;\n",
              "      box-shadow: 0px 1px 3px 1px rgba(0, 0, 0, 0.15);\n",
              "      filter: drop-shadow(0px 1px 2px rgba(0, 0, 0, 0.3));\n",
              "      fill: #FFFFFF;\n",
              "    }\n",
              "  </style>\n",
              "\n",
              "      <script>\n",
              "        const buttonEl =\n",
              "          document.querySelector('#df-498b4f84-efa9-412d-9cf9-aa196d381008 button.colab-df-convert');\n",
              "        buttonEl.style.display =\n",
              "          google.colab.kernel.accessAllowed ? 'block' : 'none';\n",
              "\n",
              "        async function convertToInteractive(key) {\n",
              "          const element = document.querySelector('#df-498b4f84-efa9-412d-9cf9-aa196d381008');\n",
              "          const dataTable =\n",
              "            await google.colab.kernel.invokeFunction('convertToInteractive',\n",
              "                                                     [key], {});\n",
              "          if (!dataTable) return;\n",
              "\n",
              "          const docLinkHtml = 'Like what you see? Visit the ' +\n",
              "            '<a target=\"_blank\" href=https://colab.research.google.com/notebooks/data_table.ipynb>data table notebook</a>'\n",
              "            + ' to learn more about interactive tables.';\n",
              "          element.innerHTML = '';\n",
              "          dataTable['output_type'] = 'display_data';\n",
              "          await google.colab.output.renderOutput(dataTable, element);\n",
              "          const docLink = document.createElement('div');\n",
              "          docLink.innerHTML = docLinkHtml;\n",
              "          element.appendChild(docLink);\n",
              "        }\n",
              "      </script>\n",
              "    </div>\n",
              "  </div>\n",
              "  "
            ]
          },
          "metadata": {},
          "execution_count": 31
        }
      ]
    },
    {
      "cell_type": "code",
      "source": [
        "sns.barplot(x = 'city', y = 'count', data = top_5_cites)\n",
        "\n",
        "plt.title('Top 5 most favourited dog breeds on Average', fontsize = 16 , pad = 12)\n",
        "plt.xlabel('Dog Breeds', fontsize = 14, labelpad=20)\n",
        "plt.ylabel('Average Favorite Count', fontsize = 14, labelpad=20)\n",
        "\n",
        "\n",
        "plt.show();"
      ],
      "metadata": {
        "colab": {
          "base_uri": "https://localhost:8080/",
          "height": 378
        },
        "id": "8yREiX64x-nw",
        "outputId": "1c1d65c0-2fa3-4bb5-cbf7-faf322da9ed4"
      },
      "execution_count": 32,
      "outputs": [
        {
          "output_type": "display_data",
          "data": {
            "text/plain": [
              "<IPython.core.display.Javascript object>"
            ],
            "application/javascript": [
              "\n",
              "        if (window._pyforest_update_imports_cell) { window._pyforest_update_imports_cell('from sklearn.model_selection import KFold\\nfrom sklearn.cluster import KMeans\\nimport nltk\\nfrom PIL import Image\\nfrom sklearn.preprocessing import PolynomialFeatures\\nfrom sklearn.ensemble import GradientBoostingRegressor\\nimport numpy as np\\nimport pandas as pd\\nfrom sklearn.preprocessing import LabelEncoder\\nfrom sklearn.linear_model import ElasticNetCV\\nfrom sklearn.decomposition import PCA\\nfrom sklearn.ensemble import GradientBoostingClassifier\\nfrom sklearn.linear_model import LogisticRegression\\nfrom sklearn.linear_model import LassoCV\\nfrom sklearn.model_selection import GridSearchCV\\nfrom pathlib import Path\\nfrom sklearn.linear_model import LinearRegression\\nfrom statsmodels.tsa.arima_model import ARIMA\\nfrom sklearn.feature_extraction.text import CountVectorizer\\nfrom sklearn.feature_extraction.text import TfidfVectorizer\\nfrom sklearn.linear_model import ElasticNet\\nimport seaborn as sns\\nfrom sklearn.manifold import TSNE\\nfrom sklearn.linear_model import Lasso\\nimport matplotlib.pyplot as plt\\nfrom sklearn.preprocessing import OneHotEncoder\\nfrom sklearn.preprocessing import MinMaxScaler'); }\n",
              "    "
            ]
          },
          "metadata": {}
        },
        {
          "output_type": "display_data",
          "data": {
            "text/plain": [
              "<IPython.core.display.Javascript object>"
            ],
            "application/javascript": [
              "\n",
              "        if (window._pyforest_update_imports_cell) { window._pyforest_update_imports_cell('from sklearn.model_selection import KFold\\nfrom sklearn.cluster import KMeans\\nimport nltk\\nfrom PIL import Image\\nfrom sklearn.preprocessing import PolynomialFeatures\\nfrom sklearn.ensemble import GradientBoostingRegressor\\nimport numpy as np\\nimport pandas as pd\\nfrom sklearn.preprocessing import LabelEncoder\\nfrom sklearn.linear_model import ElasticNetCV\\nfrom sklearn.decomposition import PCA\\nfrom sklearn.ensemble import GradientBoostingClassifier\\nfrom sklearn.linear_model import LogisticRegression\\nfrom sklearn.linear_model import LassoCV\\nfrom sklearn.model_selection import GridSearchCV\\nfrom pathlib import Path\\nfrom sklearn.linear_model import LinearRegression\\nfrom statsmodels.tsa.arima_model import ARIMA\\nfrom sklearn.feature_extraction.text import CountVectorizer\\nfrom sklearn.feature_extraction.text import TfidfVectorizer\\nfrom sklearn.linear_model import ElasticNet\\nimport seaborn as sns\\nfrom sklearn.manifold import TSNE\\nfrom sklearn.linear_model import Lasso\\nimport matplotlib.pyplot as plt\\nfrom sklearn.preprocessing import OneHotEncoder\\nfrom sklearn.preprocessing import MinMaxScaler'); }\n",
              "    "
            ]
          },
          "metadata": {}
        },
        {
          "output_type": "display_data",
          "data": {
            "text/plain": [
              "<IPython.core.display.Javascript object>"
            ],
            "application/javascript": [
              "\n",
              "        if (window._pyforest_update_imports_cell) { window._pyforest_update_imports_cell('from sklearn.model_selection import KFold\\nfrom sklearn.cluster import KMeans\\nimport nltk\\nfrom PIL import Image\\nfrom sklearn.preprocessing import PolynomialFeatures\\nfrom sklearn.ensemble import GradientBoostingRegressor\\nimport numpy as np\\nimport pandas as pd\\nfrom sklearn.preprocessing import LabelEncoder\\nfrom sklearn.linear_model import ElasticNetCV\\nfrom sklearn.decomposition import PCA\\nfrom sklearn.ensemble import GradientBoostingClassifier\\nfrom sklearn.linear_model import LogisticRegression\\nfrom sklearn.linear_model import LassoCV\\nfrom sklearn.model_selection import GridSearchCV\\nfrom pathlib import Path\\nfrom sklearn.linear_model import LinearRegression\\nfrom statsmodels.tsa.arima_model import ARIMA\\nfrom sklearn.feature_extraction.text import CountVectorizer\\nfrom sklearn.feature_extraction.text import TfidfVectorizer\\nfrom sklearn.linear_model import ElasticNet\\nimport seaborn as sns\\nfrom sklearn.manifold import TSNE\\nfrom sklearn.linear_model import Lasso\\nimport matplotlib.pyplot as plt\\nfrom sklearn.preprocessing import OneHotEncoder\\nfrom sklearn.preprocessing import MinMaxScaler'); }\n",
              "    "
            ]
          },
          "metadata": {}
        },
        {
          "output_type": "display_data",
          "data": {
            "text/plain": [
              "<IPython.core.display.Javascript object>"
            ],
            "application/javascript": [
              "\n",
              "        if (window._pyforest_update_imports_cell) { window._pyforest_update_imports_cell('from sklearn.model_selection import KFold\\nfrom sklearn.cluster import KMeans\\nimport nltk\\nfrom PIL import Image\\nfrom sklearn.preprocessing import PolynomialFeatures\\nfrom sklearn.ensemble import GradientBoostingRegressor\\nimport numpy as np\\nimport pandas as pd\\nfrom sklearn.preprocessing import LabelEncoder\\nfrom sklearn.linear_model import ElasticNetCV\\nfrom sklearn.decomposition import PCA\\nfrom sklearn.ensemble import GradientBoostingClassifier\\nfrom sklearn.linear_model import LogisticRegression\\nfrom sklearn.linear_model import LassoCV\\nfrom sklearn.model_selection import GridSearchCV\\nfrom pathlib import Path\\nfrom sklearn.linear_model import LinearRegression\\nfrom statsmodels.tsa.arima_model import ARIMA\\nfrom sklearn.feature_extraction.text import CountVectorizer\\nfrom sklearn.feature_extraction.text import TfidfVectorizer\\nfrom sklearn.linear_model import ElasticNet\\nimport seaborn as sns\\nfrom sklearn.manifold import TSNE\\nfrom sklearn.linear_model import Lasso\\nimport matplotlib.pyplot as plt\\nfrom sklearn.preprocessing import OneHotEncoder\\nfrom sklearn.preprocessing import MinMaxScaler'); }\n",
              "    "
            ]
          },
          "metadata": {}
        },
        {
          "output_type": "display_data",
          "data": {
            "text/plain": [
              "<IPython.core.display.Javascript object>"
            ],
            "application/javascript": [
              "\n",
              "        if (window._pyforest_update_imports_cell) { window._pyforest_update_imports_cell('from sklearn.model_selection import KFold\\nfrom sklearn.cluster import KMeans\\nimport nltk\\nfrom PIL import Image\\nfrom sklearn.preprocessing import PolynomialFeatures\\nfrom sklearn.ensemble import GradientBoostingRegressor\\nimport numpy as np\\nimport pandas as pd\\nfrom sklearn.preprocessing import LabelEncoder\\nfrom sklearn.linear_model import ElasticNetCV\\nfrom sklearn.decomposition import PCA\\nfrom sklearn.ensemble import GradientBoostingClassifier\\nfrom sklearn.linear_model import LogisticRegression\\nfrom sklearn.linear_model import LassoCV\\nfrom sklearn.model_selection import GridSearchCV\\nfrom pathlib import Path\\nfrom sklearn.linear_model import LinearRegression\\nfrom statsmodels.tsa.arima_model import ARIMA\\nfrom sklearn.feature_extraction.text import CountVectorizer\\nfrom sklearn.feature_extraction.text import TfidfVectorizer\\nfrom sklearn.linear_model import ElasticNet\\nimport seaborn as sns\\nfrom sklearn.manifold import TSNE\\nfrom sklearn.linear_model import Lasso\\nimport matplotlib.pyplot as plt\\nfrom sklearn.preprocessing import OneHotEncoder\\nfrom sklearn.preprocessing import MinMaxScaler'); }\n",
              "    "
            ]
          },
          "metadata": {}
        },
        {
          "output_type": "display_data",
          "data": {
            "text/plain": [
              "<Figure size 1440x360 with 1 Axes>"
            ],
            "image/png": "[encoded data removed]"
          },
          "metadata": {
            "needs_background": "light"
          }
        }
      ]
    }
  ]
}